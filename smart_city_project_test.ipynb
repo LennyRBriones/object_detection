{
  "nbformat": 4,
  "nbformat_minor": 0,
  "metadata": {
    "colab": {
      "provenance": [],
      "mount_file_id": "18VjWwUWuQ9jFZi6XDczGas_FnAUgcXpe",
      "authorship_tag": "ABX9TyOIJeCm8vXeFjwkOySLwtad",
      "include_colab_link": true
    },
    "kernelspec": {
      "name": "python3",
      "display_name": "Python 3"
    },
    "language_info": {
      "name": "python"
    }
  },
  "cells": [
    {
      "cell_type": "markdown",
      "metadata": {
        "id": "view-in-github",
        "colab_type": "text"
      },
      "source": [
        "<a href=\"https://colab.research.google.com/github/LennyRBriones/object_detection/blob/main/smart_city_project_test.ipynb\" target=\"_parent\"><img src=\"https://colab.research.google.com/assets/colab-badge.svg\" alt=\"Open In Colab\"/></a>"
      ]
    },
    {
      "cell_type": "code",
      "execution_count": 1,
      "metadata": {
        "id": "aCPeSR_uNZWP"
      },
      "outputs": [],
      "source": [
        "import os\n",
        "import zipfile\n",
        "\n",
        "local_zip = \"/content/drive/MyDrive/Data Sets/smart_city/dataset_filtrado.zip\"\n",
        "zip_ref = zipfile.ZipFile(local_zip, \"r\")\n",
        "zip_ref.extractall(\"dataset\")\n",
        "zip_ref.close()"
      ]
    },
    {
      "cell_type": "code",
      "source": [
        "path = \"dataset/dataset_filtrado\"\n",
        "content = os.listdir(path)"
      ],
      "metadata": {
        "id": "EZkNYv-wnMul"
      },
      "execution_count": 2,
      "outputs": []
    },
    {
      "cell_type": "code",
      "source": [
        "content"
      ],
      "metadata": {
        "colab": {
          "base_uri": "https://localhost:8080/"
        },
        "id": "9lDpsravosxC",
        "outputId": "2a21fdb4-5c1b-4d95-a1f2-3d829f8b5a29"
      },
      "execution_count": 3,
      "outputs": [
        {
          "output_type": "execute_result",
          "data": {
            "text/plain": [
              "['89c26158c4.jpg',\n",
              " '533dd3ae49.jpg',\n",
              " '2fdd9eb661.jpg',\n",
              " 'f74248c57f.jpg',\n",
              " '576c712438.jpg',\n",
              " '3b2d25d42c.jpg',\n",
              " '38073088aa.jpg',\n",
              " '95614aebd9.jpg',\n",
              " '3ec8255ddd.jpg',\n",
              " 'cbb99fc122.jpg',\n",
              " '2b37a718bc.jpg',\n",
              " 'e02950195f.jpg',\n",
              " '4848bc97c4.jpg',\n",
              " 'b22ad30e1b.jpg',\n",
              " 'c554e9b7b4.jpg',\n",
              " '39339a1089.jpg',\n",
              " '37e9f4c722.jpg',\n",
              " '2feaa7dff6.jpg',\n",
              " '717e612946.jpg',\n",
              " '2efb6c3c82.jpg',\n",
              " '0c535fcdfa.jpg',\n",
              " '93407ba6ac.jpg',\n",
              " '07ffa35d1f.jpg',\n",
              " '7490c9ba04.jpg',\n",
              " 'abdbb7257d.jpg',\n",
              " '744ca71f5a.jpg',\n",
              " 'b59018d131.jpg',\n",
              " '18cf3b73b6.jpg',\n",
              " 'e79711e10f.jpg',\n",
              " 'bf5b9af373.jpg',\n",
              " 'fc15988c9a.jpg',\n",
              " 'd01c4bbb38.jpg',\n",
              " '1180fcd71f.jpg',\n",
              " '8a98fca468.jpg',\n",
              " '5cc8e6c42d.jpg',\n",
              " 'ea2cb5917b.jpg',\n",
              " '0414eb4d03.jpg',\n",
              " '8e933395c2.jpg',\n",
              " 'e4927496c4.jpg',\n",
              " '007d086a0d.jpg',\n",
              " '42e14b904b.jpg',\n",
              " '66d55e26e2.jpg',\n",
              " '486107bbf0.jpg',\n",
              " 'f8a2cc7848.jpg',\n",
              " 'ea8ce9da21.jpg',\n",
              " '2c3ae2799b.jpg',\n",
              " 'e9379064f8.jpg',\n",
              " 'e22a1fc8c5.jpg',\n",
              " '6450b21594.jpg',\n",
              " '34db31dbb7.jpg',\n",
              " '53f2146ec4.jpg',\n",
              " '530a817c7a.jpg',\n",
              " '6f65ac7a0a.jpg',\n",
              " '2c7120c43a.jpg',\n",
              " 'cf8db02eac.jpg',\n",
              " '636e60da4d.jpg',\n",
              " 'c4054a8f2c.jpg']"
            ]
          },
          "metadata": {},
          "execution_count": 3
        }
      ]
    },
    {
      "cell_type": "code",
      "source": [
        "general_path = \"final_dataset\"\n",
        "train_path = \"{}/train\".format(general_path)\n",
        "test_path = \"{}/test\".format(general_path)\n",
        "\n",
        "os.mkdir(general_path)\n",
        "os.mkdir(train_path)\n",
        "os.mkdir(test_path)\n"
      ],
      "metadata": {
        "id": "sbvVUFXypf-5"
      },
      "execution_count": 4,
      "outputs": []
    },
    {
      "cell_type": "code",
      "source": [
        "import random\n",
        "import shutil\n",
        "\n",
        "train = 0.7\n",
        "for nCount in range(int(len(content)*train)):\n",
        "  random_choice_img = random.choice(content)\n",
        "  random_choice_img_absolut = \"{}/{}\".format(path,random_choice_img)\n",
        "  target_img = \"{}/{}\".format(train_path, random_choice_img)\n",
        "  shutil.copyfile(random_choice_img_absolut, target_img)\n",
        "  content.remove(random_choice_img)"
      ],
      "metadata": {
        "id": "6HHvfcUlqiew"
      },
      "execution_count": 5,
      "outputs": []
    },
    {
      "cell_type": "code",
      "source": [
        "for img in content:\n",
        "  random_choice_img_absolut = \"{}/{}\".format(path,img)\n",
        "  target_img = \"{}/{}\".format(test_path, img)\n",
        "  shutil.copyfile(random_choice_img_absolut, target_img)"
      ],
      "metadata": {
        "id": "oxd-co6KsaQv"
      },
      "execution_count": 6,
      "outputs": []
    },
    {
      "cell_type": "code",
      "source": [
        "!zip -r /content/final_dataset.zip /content/final_dataset"
      ],
      "metadata": {
        "colab": {
          "base_uri": "https://localhost:8080/"
        },
        "id": "BV03hZ5mtqcf",
        "outputId": "bde2caa4-1c7d-4ba2-8906-b380e78b5dec"
      },
      "execution_count": 7,
      "outputs": [
        {
          "output_type": "stream",
          "name": "stdout",
          "text": [
            "  adding: content/final_dataset/ (stored 0%)\n",
            "  adding: content/final_dataset/test/ (stored 0%)\n",
            "  adding: content/final_dataset/test/89c26158c4.jpg (deflated 1%)\n",
            "  adding: content/final_dataset/test/576c712438.jpg (deflated 1%)\n",
            "  adding: content/final_dataset/test/3b2d25d42c.jpg (deflated 0%)\n",
            "  adding: content/final_dataset/test/cbb99fc122.jpg (deflated 0%)\n",
            "  adding: content/final_dataset/test/4848bc97c4.jpg (deflated 0%)\n",
            "  adding: content/final_dataset/test/39339a1089.jpg (deflated 0%)\n",
            "  adding: content/final_dataset/test/07ffa35d1f.jpg (deflated 1%)\n",
            "  adding: content/final_dataset/test/7490c9ba04.jpg (deflated 0%)\n",
            "  adding: content/final_dataset/test/b59018d131.jpg (deflated 4%)\n",
            "  adding: content/final_dataset/test/fc15988c9a.jpg (deflated 4%)\n",
            "  adding: content/final_dataset/test/d01c4bbb38.jpg (deflated 1%)\n",
            "  adding: content/final_dataset/test/1180fcd71f.jpg (deflated 1%)\n",
            "  adding: content/final_dataset/test/5cc8e6c42d.jpg (deflated 1%)\n",
            "  adding: content/final_dataset/test/2c3ae2799b.jpg (deflated 0%)\n",
            "  adding: content/final_dataset/test/e22a1fc8c5.jpg (deflated 0%)\n",
            "  adding: content/final_dataset/test/6450b21594.jpg (deflated 1%)\n",
            "  adding: content/final_dataset/test/cf8db02eac.jpg (deflated 1%)\n",
            "  adding: content/final_dataset/test/c4054a8f2c.jpg (deflated 2%)\n",
            "  adding: content/final_dataset/train/ (stored 0%)\n",
            "  adding: content/final_dataset/train/533dd3ae49.jpg (deflated 0%)\n",
            "  adding: content/final_dataset/train/2fdd9eb661.jpg (deflated 0%)\n",
            "  adding: content/final_dataset/train/f74248c57f.jpg (deflated 0%)\n",
            "  adding: content/final_dataset/train/38073088aa.jpg (deflated 3%)\n",
            "  adding: content/final_dataset/train/95614aebd9.jpg (deflated 3%)\n",
            "  adding: content/final_dataset/train/3ec8255ddd.jpg (deflated 0%)\n",
            "  adding: content/final_dataset/train/2b37a718bc.jpg (deflated 0%)\n",
            "  adding: content/final_dataset/train/e02950195f.jpg (deflated 0%)\n",
            "  adding: content/final_dataset/train/b22ad30e1b.jpg (deflated 0%)\n",
            "  adding: content/final_dataset/train/c554e9b7b4.jpg (deflated 0%)\n",
            "  adding: content/final_dataset/train/37e9f4c722.jpg (deflated 5%)\n",
            "  adding: content/final_dataset/train/2feaa7dff6.jpg (deflated 3%)\n",
            "  adding: content/final_dataset/train/717e612946.jpg (deflated 3%)\n",
            "  adding: content/final_dataset/train/2efb6c3c82.jpg (deflated 5%)\n",
            "  adding: content/final_dataset/train/0c535fcdfa.jpg (deflated 0%)\n",
            "  adding: content/final_dataset/train/93407ba6ac.jpg (deflated 0%)\n",
            "  adding: content/final_dataset/train/abdbb7257d.jpg (deflated 1%)\n",
            "  adding: content/final_dataset/train/744ca71f5a.jpg (deflated 0%)\n",
            "  adding: content/final_dataset/train/18cf3b73b6.jpg (deflated 1%)\n",
            "  adding: content/final_dataset/train/e79711e10f.jpg (deflated 2%)\n",
            "  adding: content/final_dataset/train/bf5b9af373.jpg (deflated 3%)\n",
            "  adding: content/final_dataset/train/8a98fca468.jpg (deflated 1%)\n",
            "  adding: content/final_dataset/train/ea2cb5917b.jpg (deflated 3%)\n",
            "  adding: content/final_dataset/train/0414eb4d03.jpg (deflated 3%)\n",
            "  adding: content/final_dataset/train/8e933395c2.jpg (deflated 0%)\n",
            "  adding: content/final_dataset/train/e4927496c4.jpg (deflated 4%)\n",
            "  adding: content/final_dataset/train/007d086a0d.jpg (deflated 5%)\n",
            "  adding: content/final_dataset/train/42e14b904b.jpg (deflated 3%)\n",
            "  adding: content/final_dataset/train/66d55e26e2.jpg (deflated 0%)\n",
            "  adding: content/final_dataset/train/486107bbf0.jpg (deflated 0%)\n",
            "  adding: content/final_dataset/train/f8a2cc7848.jpg (deflated 3%)\n",
            "  adding: content/final_dataset/train/ea8ce9da21.jpg (deflated 0%)\n",
            "  adding: content/final_dataset/train/e9379064f8.jpg (deflated 0%)\n",
            "  adding: content/final_dataset/train/34db31dbb7.jpg (deflated 4%)\n",
            "  adding: content/final_dataset/train/53f2146ec4.jpg (deflated 0%)\n",
            "  adding: content/final_dataset/train/530a817c7a.jpg (deflated 0%)\n",
            "  adding: content/final_dataset/train/6f65ac7a0a.jpg (deflated 0%)\n",
            "  adding: content/final_dataset/train/2c7120c43a.jpg (deflated 1%)\n",
            "  adding: content/final_dataset/train/636e60da4d.jpg (deflated 5%)\n"
          ]
        }
      ]
    },
    {
      "cell_type": "code",
      "source": [],
      "metadata": {
        "id": "d2KZbOZRt1pb"
      },
      "execution_count": 7,
      "outputs": []
    }
  ]
}